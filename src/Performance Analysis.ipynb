{
 "cells": [
  {
   "cell_type": "markdown",
   "metadata": {},
   "source": [
    "# Install dependencies"
   ]
  },
  {
   "cell_type": "code",
   "execution_count": null,
   "metadata": {},
   "outputs": [],
   "source": [
    "%%bash\n",
    "pip install wds-client --upgrade\n",
    "pip install terra-notebook-utils --user"
   ]
  },
  {
   "cell_type": "code",
   "execution_count": 1,
   "metadata": {},
   "outputs": [],
   "source": [
    "import requests\n",
    "import os\n",
    "import json\n",
    "import wds_client\n",
    "import pandas as pd\n",
    "import seaborn\n",
    "from datetime import datetime\n",
    "import pytz\n",
    "from terra_notebook_utils import azure_auth"
   ]
  },
  {
   "cell_type": "markdown",
   "metadata": {},
   "source": [
    "# Define constants"
   ]
  },
  {
   "cell_type": "code",
   "execution_count": 2,
   "metadata": {},
   "outputs": [],
   "source": [
    "DOMAIN = 'dsde-prod.broadinstitute.org'\n",
    "WSM_BASE_URL = f'https://workspace.{DOMAIN}/api/workspaces/v1'\n",
    "LEO_BASE_URL = f'https://leonardo.{DOMAIN}/api/apps/v2'\n",
    "azure_token = azure_auth.get_azure_access_token()\n",
    "HEADERS = {\n",
    "    \"Authorization\": f\"Bearer {azure_token}\",\n",
    "    \"Accept\": \"application/json\"\n",
    "}\n",
    "WORKSPACE_ID = os.environ['WORKSPACE_ID']\n",
    "WORKSPACE_STORAGE_CONTAINER_ID = os.environ['WORKSPACE_STORAGE_CONTAINER_ID']\n",
    "WORKSPACE_STORAGE_CONTAINER_URL = os.environ['WORKSPACE_STORAGE_CONTAINER_URL']\n",
    "VERSION = 'v0.2'"
   ]
  },
  {
   "cell_type": "markdown",
   "metadata": {},
   "source": [
    "# Prepare WDS client"
   ]
  },
  {
   "cell_type": "code",
   "execution_count": 3,
   "metadata": {},
   "outputs": [
    {
     "name": "stdout",
     "output_type": "stream",
     "text": [
      "https://lzf42bf0dc63c251179adc6ee67ef00d66ba53808001a58d33.servicebus.windows.net/wds-28d93d5c-9026-49aa-a3cc-e4dc13622528/wds\n"
     ]
    }
   ],
   "source": [
    "def get_wds_url(workspaceId):\n",
    "    \"\"\"Get url for WDS.\"\"\"\n",
    "    uri = f\"{LEO_BASE_URL}/{workspaceId}?includeDeleted=false\"\n",
    "    response = requests.get(uri, headers=HEADERS)\n",
    "    status_code = response.status_code\n",
    "    if status_code != 200:\n",
    "        return response.text\n",
    "    return json.loads(response.text)\n",
    "\n",
    "response = get_wds_url(WORKSPACE_ID)\n",
    "wds_url = response[0]['proxyUrls']['wds']\n",
    "print(wds_url)"
   ]
  },
  {
   "cell_type": "code",
   "execution_count": 4,
   "metadata": {},
   "outputs": [],
   "source": [
    "api_client = wds_client.ApiClient(header_name='Authorization', header_value=\"Bearer \" + azure_token)\n",
    "api_client.configuration.host = wds_url\n",
    "\n",
    "# set up all the clients\n",
    "records_client = wds_client.RecordsApi(api_client)\n",
    "generalInfo_instance = wds_client.GeneralWDSInformationApi(api_client)\n",
    "schema_instance = wds_client.SchemaApi(api_client)\n",
    "client_instance = wds_client.InstancesApi(api_client)"
   ]
  },
  {
   "cell_type": "markdown",
   "metadata": {},
   "source": [
    "# Read data table into pandas dataframe"
   ]
  },
  {
   "cell_type": "code",
   "execution_count": 5,
   "metadata": {},
   "outputs": [],
   "source": [
    "records = records_client.get_records_as_tsv(WORKSPACE_ID, VERSION, 'games')\n",
    "df = pd.read_csv(records, sep='\\t')\n",
    "# Filter out games we haven't analyzed\n",
    "df = df[df.white_avg_centipawn_loss.notnull()]"
   ]
  },
  {
   "cell_type": "code",
   "execution_count": 6,
   "metadata": {},
   "outputs": [
    {
     "data": {
      "text/html": [
       "<div>\n",
       "<style scoped>\n",
       "    .dataframe tbody tr th:only-of-type {\n",
       "        vertical-align: middle;\n",
       "    }\n",
       "\n",
       "    .dataframe tbody tr th {\n",
       "        vertical-align: top;\n",
       "    }\n",
       "\n",
       "    .dataframe thead th {\n",
       "        text-align: right;\n",
       "    }\n",
       "</style>\n",
       "<table border=\"1\" class=\"dataframe\">\n",
       "  <thead>\n",
       "    <tr style=\"text-align: right;\">\n",
       "      <th></th>\n",
       "      <th>sys_name</th>\n",
       "      <th>Black</th>\n",
       "      <th>black_avg_centipawn_loss</th>\n",
       "      <th>BlackElo</th>\n",
       "      <th>BlackRatingDiff</th>\n",
       "      <th>Date</th>\n",
       "      <th>ECO</th>\n",
       "      <th>Event</th>\n",
       "      <th>offset</th>\n",
       "      <th>pgn_file</th>\n",
       "      <th>...</th>\n",
       "      <th>Site</th>\n",
       "      <th>Termination</th>\n",
       "      <th>TimeControl</th>\n",
       "      <th>UTCDate</th>\n",
       "      <th>UTCTime</th>\n",
       "      <th>Variant</th>\n",
       "      <th>White</th>\n",
       "      <th>white_avg_centipawn_loss</th>\n",
       "      <th>WhiteElo</th>\n",
       "      <th>WhiteRatingDiff</th>\n",
       "    </tr>\n",
       "  </thead>\n",
       "  <tbody>\n",
       "    <tr>\n",
       "      <th>0</th>\n",
       "      <td>0</td>\n",
       "      <td>hiepsieunhan</td>\n",
       "      <td>151.285714</td>\n",
       "      <td>1752</td>\n",
       "      <td>-6</td>\n",
       "      <td>2023.04.10</td>\n",
       "      <td>D00</td>\n",
       "      <td>Rated Bullet game</td>\n",
       "      <td>0</td>\n",
       "      <td>https://lz304a1e79fd7359e5327eda.blob.core.win...</td>\n",
       "      <td>...</td>\n",
       "      <td>https://lichess.org/NWQRVM2s</td>\n",
       "      <td>Normal</td>\n",
       "      <td>60+0</td>\n",
       "      <td>2023.04.10</td>\n",
       "      <td>03:35:42</td>\n",
       "      <td>Standard</td>\n",
       "      <td>robitto</td>\n",
       "      <td>37.250000</td>\n",
       "      <td>1769</td>\n",
       "      <td>+6</td>\n",
       "    </tr>\n",
       "    <tr>\n",
       "      <th>1</th>\n",
       "      <td>1</td>\n",
       "      <td>OnSlaughter24</td>\n",
       "      <td>64.617021</td>\n",
       "      <td>1835</td>\n",
       "      <td>+5</td>\n",
       "      <td>2023.04.10</td>\n",
       "      <td>A80</td>\n",
       "      <td>Rated Bullet game</td>\n",
       "      <td>434</td>\n",
       "      <td>https://lz304a1e79fd7359e5327eda.blob.core.win...</td>\n",
       "      <td>...</td>\n",
       "      <td>https://lichess.org/XDXTRRTV</td>\n",
       "      <td>Time forfeit</td>\n",
       "      <td>60+0</td>\n",
       "      <td>2023.04.10</td>\n",
       "      <td>01:29:23</td>\n",
       "      <td>Standard</td>\n",
       "      <td>robitto</td>\n",
       "      <td>109.659574</td>\n",
       "      <td>1774</td>\n",
       "      <td>-5</td>\n",
       "    </tr>\n",
       "    <tr>\n",
       "      <th>2</th>\n",
       "      <td>10</td>\n",
       "      <td>gseng</td>\n",
       "      <td>93.571429</td>\n",
       "      <td>1773</td>\n",
       "      <td>-5</td>\n",
       "      <td>2023.04.08</td>\n",
       "      <td>A40</td>\n",
       "      <td>Rated Bullet game</td>\n",
       "      <td>7215</td>\n",
       "      <td>https://lz304a1e79fd7359e5327eda.blob.core.win...</td>\n",
       "      <td>...</td>\n",
       "      <td>https://lichess.org/xCuBpMG6</td>\n",
       "      <td>Normal</td>\n",
       "      <td>60+0</td>\n",
       "      <td>2023.04.08</td>\n",
       "      <td>22:42:34</td>\n",
       "      <td>Standard</td>\n",
       "      <td>robitto</td>\n",
       "      <td>30.133333</td>\n",
       "      <td>1804</td>\n",
       "      <td>+5</td>\n",
       "    </tr>\n",
       "    <tr>\n",
       "      <th>3</th>\n",
       "      <td>100</td>\n",
       "      <td>SteinsGate-0137894</td>\n",
       "      <td>56.536585</td>\n",
       "      <td>1729</td>\n",
       "      <td>-5</td>\n",
       "      <td>2023.03.31</td>\n",
       "      <td>A40</td>\n",
       "      <td>Rated Bullet game</td>\n",
       "      <td>73489</td>\n",
       "      <td>https://lz304a1e79fd7359e5327eda.blob.core.win...</td>\n",
       "      <td>...</td>\n",
       "      <td>https://lichess.org/o4K6Qoz8</td>\n",
       "      <td>Time forfeit</td>\n",
       "      <td>60+0</td>\n",
       "      <td>2023.03.31</td>\n",
       "      <td>19:18:25</td>\n",
       "      <td>Standard</td>\n",
       "      <td>robitto</td>\n",
       "      <td>0.500000</td>\n",
       "      <td>1751</td>\n",
       "      <td>+6</td>\n",
       "    </tr>\n",
       "    <tr>\n",
       "      <th>4</th>\n",
       "      <td>1000</td>\n",
       "      <td>BretzelLiquide</td>\n",
       "      <td>25.130435</td>\n",
       "      <td>1753</td>\n",
       "      <td>+6</td>\n",
       "      <td>2022.07.04</td>\n",
       "      <td>B32</td>\n",
       "      <td>Rated Bullet game</td>\n",
       "      <td>729287</td>\n",
       "      <td>https://lz304a1e79fd7359e5327eda.blob.core.win...</td>\n",
       "      <td>...</td>\n",
       "      <td>https://lichess.org/5c63Zkdm</td>\n",
       "      <td>Normal</td>\n",
       "      <td>60+0</td>\n",
       "      <td>2022.07.04</td>\n",
       "      <td>19:19:55</td>\n",
       "      <td>Standard</td>\n",
       "      <td>robitto</td>\n",
       "      <td>46.608696</td>\n",
       "      <td>1777</td>\n",
       "      <td>-7</td>\n",
       "    </tr>\n",
       "  </tbody>\n",
       "</table>\n",
       "<p>5 rows × 22 columns</p>\n",
       "</div>"
      ],
      "text/plain": [
       "   sys_name               Black  black_avg_centipawn_loss BlackElo  \\\n",
       "0         0        hiepsieunhan                151.285714     1752   \n",
       "1         1       OnSlaughter24                 64.617021     1835   \n",
       "2        10               gseng                 93.571429     1773   \n",
       "3       100  SteinsGate-0137894                 56.536585     1729   \n",
       "4      1000      BretzelLiquide                 25.130435     1753   \n",
       "\n",
       "  BlackRatingDiff        Date  ECO              Event  offset  \\\n",
       "0              -6  2023.04.10  D00  Rated Bullet game       0   \n",
       "1              +5  2023.04.10  A80  Rated Bullet game     434   \n",
       "2              -5  2023.04.08  A40  Rated Bullet game    7215   \n",
       "3              -5  2023.03.31  A40  Rated Bullet game   73489   \n",
       "4              +6  2022.07.04  B32  Rated Bullet game  729287   \n",
       "\n",
       "                                            pgn_file  ...  \\\n",
       "0  https://lz304a1e79fd7359e5327eda.blob.core.win...  ...   \n",
       "1  https://lz304a1e79fd7359e5327eda.blob.core.win...  ...   \n",
       "2  https://lz304a1e79fd7359e5327eda.blob.core.win...  ...   \n",
       "3  https://lz304a1e79fd7359e5327eda.blob.core.win...  ...   \n",
       "4  https://lz304a1e79fd7359e5327eda.blob.core.win...  ...   \n",
       "\n",
       "                           Site   Termination TimeControl     UTCDate  \\\n",
       "0  https://lichess.org/NWQRVM2s        Normal        60+0  2023.04.10   \n",
       "1  https://lichess.org/XDXTRRTV  Time forfeit        60+0  2023.04.10   \n",
       "2  https://lichess.org/xCuBpMG6        Normal        60+0  2023.04.08   \n",
       "3  https://lichess.org/o4K6Qoz8  Time forfeit        60+0  2023.03.31   \n",
       "4  https://lichess.org/5c63Zkdm        Normal        60+0  2022.07.04   \n",
       "\n",
       "    UTCTime   Variant    White white_avg_centipawn_loss WhiteElo  \\\n",
       "0  03:35:42  Standard  robitto                37.250000     1769   \n",
       "1  01:29:23  Standard  robitto               109.659574     1774   \n",
       "2  22:42:34  Standard  robitto                30.133333     1804   \n",
       "3  19:18:25  Standard  robitto                 0.500000     1751   \n",
       "4  19:19:55  Standard  robitto                46.608696     1777   \n",
       "\n",
       "   WhiteRatingDiff  \n",
       "0               +6  \n",
       "1               -5  \n",
       "2               +5  \n",
       "3               +6  \n",
       "4               -7  \n",
       "\n",
       "[5 rows x 22 columns]"
      ]
     },
     "execution_count": 6,
     "metadata": {},
     "output_type": "execute_result"
    }
   ],
   "source": [
    "df.head()"
   ]
  },
  {
   "cell_type": "markdown",
   "metadata": {},
   "source": [
    "# 1. Does engine performance correlate to result?"
   ]
  },
  {
   "cell_type": "code",
   "execution_count": 25,
   "metadata": {},
   "outputs": [
    {
     "data": {
      "text/plain": [
       "<seaborn.axisgrid.FacetGrid at 0x7f85e577beb0>"
      ]
     },
     "execution_count": 25,
     "metadata": {},
     "output_type": "execute_result"
    },
    {
     "data": {
      "image/png": "[encoded data removed]",
      "text/plain": [
       "<Figure size 360x360 with 1 Axes>"
      ]
     },
     "metadata": {
      "needs_background": "light"
     },
     "output_type": "display_data"
    }
   ],
   "source": [
    "traits_for_analysis = pd.DataFrame()\n",
    "# Higher centipawn_diff -> better white performance\n",
    "traits_for_analysis['centipawn_diff'] = df['black_avg_centipawn_loss'] - df['white_avg_centipawn_loss']\n",
    "def result_to_numeric(result):\n",
    "    if result == \"1-0\":\n",
    "        return 1\n",
    "    elif result == \"0-1\":\n",
    "        return -1\n",
    "    return 0\n",
    "traits_for_analysis['result'] = df['Result'].map(result_to_numeric)\n",
    "seaborn.lmplot(x='centipawn_diff',y='result',data=traits_for_analysis,fit_reg=True)"
   ]
  },
  {
   "cell_type": "markdown",
   "metadata": {},
   "source": [
    "# 2. Do I play better at certain times of day?"
   ]
  },
  {
   "cell_type": "code",
   "execution_count": 116,
   "metadata": {},
   "outputs": [
    {
     "data": {
      "text/plain": [
       "<AxesSubplot:xlabel='hour_of_day_est'>"
      ]
     },
     "execution_count": 116,
     "metadata": {},
     "output_type": "execute_result"
    },
    {
     "data": {
      "image/png": "[encoded data removed]",
      "text/plain": [
       "<Figure size 432x288 with 1 Axes>"
      ]
     },
     "metadata": {
      "needs_background": "light"
     },
     "output_type": "display_data"
    }
   ],
   "source": [
    "traits_for_analysis = pd.DataFrame()\n",
    "def my_cp_loss(white, black, black_cp, white_cp):\n",
    "    if white == 'robitto':\n",
    "        return white_cp\n",
    "    return black_cp\n",
    "def hour_of_day(utc_time):\n",
    "    d = datetime.strptime(utc_time, '%H:%M:%S')\n",
    "    est = pytz.timezone('US/Eastern')\n",
    "    d = d.astimezone(est)\n",
    "    return d.hour\n",
    "traits_for_analysis['hour_of_day_est'] = df['UTCTime'].map(hour_of_day)\n",
    "traits_for_analysis['my_cp_loss'] = df.apply(lambda x: my_cp_loss(x['White'], x['Black'], x['black_avg_centipawn_loss'], x['white_avg_centipawn_loss']), axis=1)\n",
    "traits_for_analysis = traits_for_analysis.groupby(['hour_of_day_est']).mean()\n",
    "traits_for_analysis.plot.bar()"
   ]
  },
  {
   "cell_type": "markdown",
   "metadata": {},
   "source": [
    "# Do I play better with certain openings?"
   ]
  },
  {
   "cell_type": "code",
   "execution_count": 114,
   "metadata": {},
   "outputs": [
    {
     "data": {
      "text/plain": [
       "<AxesSubplot:xlabel='eco'>"
      ]
     },
     "execution_count": 114,
     "metadata": {},
     "output_type": "execute_result"
    },
    {
     "data": {
      "image/png": "[encoded data removed]",
      "text/plain": [
       "<Figure size 432x288 with 1 Axes>"
      ]
     },
     "metadata": {
      "needs_background": "light"
     },
     "output_type": "display_data"
    }
   ],
   "source": [
    "traits_for_analysis = pd.DataFrame()\n",
    "def eco_unhex(eco):\n",
    "    return int(eco, 16)\n",
    "traits_for_analysis['eco'] = df['ECO']\n",
    "traits_for_analysis['my_cp_loss'] = df.apply(lambda x: my_cp_loss(x['White'], x['Black'], x['black_avg_centipawn_loss'], x['white_avg_centipawn_loss']), axis=1)\n",
    "traits_for_analysis = traits_for_analysis.groupby(['eco']).mean()\n",
    "traits_for_analysis.sort_values('my_cp_loss').head(25).plot.bar()"
   ]
  },
  {
   "cell_type": "code",
   "execution_count": null,
   "metadata": {},
   "outputs": [],
   "source": []
  }
 ],
 "metadata": {
  "kernelspec": {
   "display_name": "Python 3",
   "language": "python",
   "name": "python3"
  },
  "language_info": {
   "codemirror_mode": {
    "name": "ipython",
    "version": 3
   },
   "file_extension": ".py",
   "mimetype": "text/x-python",
   "name": "python",
   "nbconvert_exporter": "python",
   "pygments_lexer": "ipython3",
   "version": "3.8.13"
  }
 },
 "nbformat": 4,
 "nbformat_minor": 4
}
