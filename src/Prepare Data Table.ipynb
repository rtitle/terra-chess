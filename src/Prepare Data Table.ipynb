{
 "cells": [
  {
   "cell_type": "markdown",
   "id": "b98fa27e-5a3b-46dc-8725-08e163bad9bd",
   "metadata": {},
   "source": [
    "# Install dependencies"
   ]
  },
  {
   "cell_type": "code",
   "execution_count": 12,
   "id": "dfcf46be-29f3-4cde-9a79-c81b71051fa3",
   "metadata": {
    "tags": []
   },
   "outputs": [
    {
     "name": "stdout",
     "output_type": "stream",
     "text": [
      "Requirement already satisfied: wds-client in /anaconda/envs/py38_default/lib/python3.8/site-packages (0.2.113)\n",
      "Requirement already satisfied: urllib3>=1.15 in /anaconda/envs/py38_default/lib/python3.8/site-packages (from wds-client) (1.26.15)\n",
      "Requirement already satisfied: six>=1.10 in /anaconda/envs/py38_default/lib/python3.8/site-packages (from wds-client) (1.16.0)\n",
      "Requirement already satisfied: certifi in /anaconda/envs/py38_default/lib/python3.8/site-packages (from wds-client) (2022.12.7)\n",
      "Requirement already satisfied: python-dateutil in /anaconda/envs/py38_default/lib/python3.8/site-packages (from wds-client) (2.8.2)\n"
     ]
    },
    {
     "name": "stderr",
     "output_type": "stream",
     "text": [
      "\n",
      "[notice] A new release of pip is available: 23.1.1 -> 23.3.2\n",
      "[notice] To update, run: pip install --upgrade pip\n"
     ]
    },
    {
     "name": "stdout",
     "output_type": "stream",
     "text": [
      "Requirement already satisfied: chess in /anaconda/envs/py38_default/lib/python3.8/site-packages (1.10.0)\n"
     ]
    },
    {
     "name": "stderr",
     "output_type": "stream",
     "text": [
      "\n",
      "[notice] A new release of pip is available: 23.1.1 -> 23.3.2\n",
      "[notice] To update, run: pip install --upgrade pip\n"
     ]
    },
    {
     "name": "stdout",
     "output_type": "stream",
     "text": [
      "Requirement already satisfied: terra-notebook-utils in ./.local/lib/python3.8/site-packages (0.13.0)\n",
      "Requirement already satisfied: azure-identity<2,>=1.12.0 in ./.local/lib/python3.8/site-packages (from terra-notebook-utils) (1.15.0)\n",
      "Requirement already satisfied: google-cloud-storage<2,>=1.38.0 in ./.local/lib/python3.8/site-packages (from terra-notebook-utils) (1.44.0)\n",
      "Requirement already satisfied: gs-chunked-io<0.6,>=0.5.1 in ./.local/lib/python3.8/site-packages (from terra-notebook-utils) (0.5.2)\n",
      "Requirement already satisfied: firecloud in ./.local/lib/python3.8/site-packages (from terra-notebook-utils) (0.16.36)\n",
      "Requirement already satisfied: bgzip<0.4,>=0.3.5 in ./.local/lib/python3.8/site-packages (from terra-notebook-utils) (0.3.5)\n",
      "Requirement already satisfied: cli-builder<0.2,>=0.1.5 in ./.local/lib/python3.8/site-packages (from terra-notebook-utils) (0.1.5)\n",
      "Requirement already satisfied: oauth2client in ./.local/lib/python3.8/site-packages (from terra-notebook-utils) (4.1.3)\n",
      "Requirement already satisfied: jmespath==0.10.0 in ./.local/lib/python3.8/site-packages (from terra-notebook-utils) (0.10.0)\n",
      "Requirement already satisfied: getm<0.1.0,>=0.0.4 in ./.local/lib/python3.8/site-packages (from terra-notebook-utils) (0.0.5)\n",
      "Requirement already satisfied: jsonschema in /anaconda/envs/py38_default/lib/python3.8/site-packages (from terra-notebook-utils) (4.17.3)\n",
      "Requirement already satisfied: azure-core<2.0.0,>=1.23.0 in /anaconda/envs/py38_default/lib/python3.8/site-packages (from azure-identity<2,>=1.12.0->terra-notebook-utils) (1.26.4)\n",
      "Requirement already satisfied: cryptography>=2.5 in /anaconda/envs/py38_default/lib/python3.8/site-packages (from azure-identity<2,>=1.12.0->terra-notebook-utils) (39.0.1)\n",
      "Requirement already satisfied: msal<2.0.0,>=1.24.0 in ./.local/lib/python3.8/site-packages (from azure-identity<2,>=1.12.0->terra-notebook-utils) (1.26.0)\n",
      "Requirement already satisfied: msal-extensions<2.0.0,>=0.3.0 in ./.local/lib/python3.8/site-packages (from azure-identity<2,>=1.12.0->terra-notebook-utils) (1.1.0)\n",
      "Requirement already satisfied: requests<2.30.0 in /anaconda/envs/py38_default/lib/python3.8/site-packages (from getm<0.1.0,>=0.0.4->terra-notebook-utils) (2.28.1)\n",
      "Requirement already satisfied: google-crc32c in ./.local/lib/python3.8/site-packages (from getm<0.1.0,>=0.0.4->terra-notebook-utils) (1.5.0)\n",
      "Requirement already satisfied: six in /anaconda/envs/py38_default/lib/python3.8/site-packages (from google-cloud-storage<2,>=1.38.0->terra-notebook-utils) (1.16.0)\n",
      "Requirement already satisfied: google-auth<3.0dev,>=1.25.0 in /anaconda/envs/py38_default/lib/python3.8/site-packages (from google-cloud-storage<2,>=1.38.0->terra-notebook-utils) (2.17.3)\n",
      "Requirement already satisfied: google-api-core<3.0dev,>=1.29.0 in ./.local/lib/python3.8/site-packages (from google-cloud-storage<2,>=1.38.0->terra-notebook-utils) (2.15.0)\n",
      "Requirement already satisfied: google-cloud-core<3.0dev,>=1.6.0 in ./.local/lib/python3.8/site-packages (from google-cloud-storage<2,>=1.38.0->terra-notebook-utils) (2.4.1)\n",
      "Requirement already satisfied: google-resumable-media<3.0dev,>=1.3.0 in ./.local/lib/python3.8/site-packages (from google-cloud-storage<2,>=1.38.0->terra-notebook-utils) (2.7.0)\n",
      "Requirement already satisfied: protobuf in /anaconda/envs/py38_default/lib/python3.8/site-packages (from google-cloud-storage<2,>=1.38.0->terra-notebook-utils) (3.19.6)\n",
      "Requirement already satisfied: pydot in ./.local/lib/python3.8/site-packages (from firecloud->terra-notebook-utils) (2.0.0)\n",
      "Requirement already satisfied: setuptools>=40.3.0 in /anaconda/envs/py38_default/lib/python3.8/site-packages (from firecloud->terra-notebook-utils) (66.0.0)\n",
      "Requirement already satisfied: nose in ./.local/lib/python3.8/site-packages (from firecloud->terra-notebook-utils) (1.3.7)\n",
      "Requirement already satisfied: pylint>=1.9.5 in ./.local/lib/python3.8/site-packages (from firecloud->terra-notebook-utils) (3.0.3)\n",
      "Requirement already satisfied: attrs>=17.4.0 in /anaconda/envs/py38_default/lib/python3.8/site-packages (from jsonschema->terra-notebook-utils) (22.1.0)\n",
      "Requirement already satisfied: importlib-resources>=1.4.0 in /anaconda/envs/py38_default/lib/python3.8/site-packages (from jsonschema->terra-notebook-utils) (5.2.0)\n",
      "Requirement already satisfied: pkgutil-resolve-name>=1.3.10 in /anaconda/envs/py38_default/lib/python3.8/site-packages (from jsonschema->terra-notebook-utils) (1.3.10)\n",
      "Requirement already satisfied: pyrsistent!=0.17.0,!=0.17.1,!=0.17.2,>=0.14.0 in /anaconda/envs/py38_default/lib/python3.8/site-packages (from jsonschema->terra-notebook-utils) (0.18.0)\n",
      "Requirement already satisfied: httplib2>=0.9.1 in ./.local/lib/python3.8/site-packages (from oauth2client->terra-notebook-utils) (0.22.0)\n",
      "Requirement already satisfied: pyasn1>=0.1.7 in /anaconda/envs/py38_default/lib/python3.8/site-packages (from oauth2client->terra-notebook-utils) (0.5.0)\n",
      "Requirement already satisfied: pyasn1-modules>=0.0.5 in /anaconda/envs/py38_default/lib/python3.8/site-packages (from oauth2client->terra-notebook-utils) (0.3.0)\n",
      "Requirement already satisfied: rsa>=3.1.4 in /anaconda/envs/py38_default/lib/python3.8/site-packages (from oauth2client->terra-notebook-utils) (4.9)\n",
      "Requirement already satisfied: typing-extensions>=4.3.0 in /anaconda/envs/py38_default/lib/python3.8/site-packages (from azure-core<2.0.0,>=1.23.0->azure-identity<2,>=1.12.0->terra-notebook-utils) (4.5.0)\n",
      "Requirement already satisfied: cffi>=1.12 in /anaconda/envs/py38_default/lib/python3.8/site-packages (from cryptography>=2.5->azure-identity<2,>=1.12.0->terra-notebook-utils) (1.15.1)\n",
      "Requirement already satisfied: googleapis-common-protos<2.0.dev0,>=1.56.2 in ./.local/lib/python3.8/site-packages (from google-api-core<3.0dev,>=1.29.0->google-cloud-storage<2,>=1.38.0->terra-notebook-utils) (1.62.0)\n",
      "Requirement already satisfied: cachetools<6.0,>=2.0.0 in /anaconda/envs/py38_default/lib/python3.8/site-packages (from google-auth<3.0dev,>=1.25.0->google-cloud-storage<2,>=1.38.0->terra-notebook-utils) (5.3.0)\n",
      "Requirement already satisfied: pyparsing!=3.0.0,!=3.0.1,!=3.0.2,!=3.0.3,<4,>=2.4.2 in /anaconda/envs/py38_default/lib/python3.8/site-packages (from httplib2>=0.9.1->oauth2client->terra-notebook-utils) (3.0.9)\n",
      "Requirement already satisfied: zipp>=3.1.0 in /anaconda/envs/py38_default/lib/python3.8/site-packages (from importlib-resources>=1.4.0->jsonschema->terra-notebook-utils) (3.11.0)\n",
      "Requirement already satisfied: PyJWT[crypto]<3,>=1.0.0 in /anaconda/envs/py38_default/lib/python3.8/site-packages (from msal<2.0.0,>=1.24.0->azure-identity<2,>=1.12.0->terra-notebook-utils) (2.6.0)\n",
      "Requirement already satisfied: packaging in /anaconda/envs/py38_default/lib/python3.8/site-packages (from msal-extensions<2.0.0,>=0.3.0->azure-identity<2,>=1.12.0->terra-notebook-utils) (21.3)\n",
      "Requirement already satisfied: portalocker<3,>=1.0 in ./.local/lib/python3.8/site-packages (from msal-extensions<2.0.0,>=0.3.0->azure-identity<2,>=1.12.0->terra-notebook-utils) (2.8.2)\n",
      "Requirement already satisfied: platformdirs>=2.2.0 in /anaconda/envs/py38_default/lib/python3.8/site-packages (from pylint>=1.9.5->firecloud->terra-notebook-utils) (2.5.2)\n",
      "Requirement already satisfied: astroid<=3.1.0-dev0,>=3.0.1 in ./.local/lib/python3.8/site-packages (from pylint>=1.9.5->firecloud->terra-notebook-utils) (3.0.2)\n",
      "Requirement already satisfied: isort!=5.13.0,<6,>=4.2.5 in ./.local/lib/python3.8/site-packages (from pylint>=1.9.5->firecloud->terra-notebook-utils) (5.13.2)\n",
      "Requirement already satisfied: mccabe<0.8,>=0.6 in ./.local/lib/python3.8/site-packages (from pylint>=1.9.5->firecloud->terra-notebook-utils) (0.7.0)\n",
      "Requirement already satisfied: tomlkit>=0.10.1 in ./.local/lib/python3.8/site-packages (from pylint>=1.9.5->firecloud->terra-notebook-utils) (0.12.3)\n",
      "Requirement already satisfied: dill>=0.2 in ./.local/lib/python3.8/site-packages (from pylint>=1.9.5->firecloud->terra-notebook-utils) (0.3.7)\n",
      "Requirement already satisfied: tomli>=1.1.0 in /anaconda/envs/py38_default/lib/python3.8/site-packages (from pylint>=1.9.5->firecloud->terra-notebook-utils) (2.0.1)\n",
      "Requirement already satisfied: charset-normalizer<3,>=2 in /anaconda/envs/py38_default/lib/python3.8/site-packages (from requests<2.30.0->getm<0.1.0,>=0.0.4->terra-notebook-utils) (2.0.4)\n",
      "Requirement already satisfied: idna<4,>=2.5 in /anaconda/envs/py38_default/lib/python3.8/site-packages (from requests<2.30.0->getm<0.1.0,>=0.0.4->terra-notebook-utils) (3.4)\n",
      "Requirement already satisfied: urllib3<1.27,>=1.21.1 in /anaconda/envs/py38_default/lib/python3.8/site-packages (from requests<2.30.0->getm<0.1.0,>=0.0.4->terra-notebook-utils) (1.26.15)\n",
      "Requirement already satisfied: certifi>=2017.4.17 in /anaconda/envs/py38_default/lib/python3.8/site-packages (from requests<2.30.0->getm<0.1.0,>=0.0.4->terra-notebook-utils) (2022.12.7)\n",
      "Requirement already satisfied: pycparser in /anaconda/envs/py38_default/lib/python3.8/site-packages (from cffi>=1.12->cryptography>=2.5->azure-identity<2,>=1.12.0->terra-notebook-utils) (2.21)\n"
     ]
    },
    {
     "name": "stderr",
     "output_type": "stream",
     "text": [
      "\n",
      "[notice] A new release of pip is available: 23.1.1 -> 23.3.2\n",
      "[notice] To update, run: pip install --upgrade pip\n"
     ]
    }
   ],
   "source": [
    "%%bash\n",
    "pip install wds-client --upgrade\n",
    "pip install chess\n",
    "pip install terra-notebook-utils --user"
   ]
  },
  {
   "cell_type": "code",
   "execution_count": 13,
   "id": "5f91b505-b6e7-4671-a7a4-def4607fed23",
   "metadata": {
    "tags": []
   },
   "outputs": [],
   "source": [
    "import chess.pgn\n",
    "import requests\n",
    "import os\n",
    "import json\n",
    "import wds_client\n",
    "from terra_notebook_utils import azure_auth"
   ]
  },
  {
   "cell_type": "markdown",
   "id": "673edcf5-75f6-4b1b-83a4-0fb84d087f01",
   "metadata": {},
   "source": [
    "# Constants and helper functions"
   ]
  },
  {
   "cell_type": "code",
   "execution_count": 14,
   "id": "d012c390-718c-4bfc-bab6-b8b16c9a4751",
   "metadata": {
    "tags": []
   },
   "outputs": [],
   "source": [
    "DOMAIN = 'dsde-prod.broadinstitute.org'\n",
    "WSM_BASE_URL = f'https://workspace.{DOMAIN}/api/workspaces/v1'\n",
    "LEO_BASE_URL = f'https://leonardo.{DOMAIN}/api/apps/v2'\n",
    "WORKSPACE_ID = os.environ['WORKSPACE_ID']\n",
    "WORKSPACE_STORAGE_CONTAINER_ID = os.environ['WORKSPACE_STORAGE_CONTAINER_ID']\n",
    "WORKSPACE_STORAGE_CONTAINER_URL = os.environ['WORKSPACE_STORAGE_CONTAINER_URL']\n",
    "FILE_NAME = 'lichess_robitto_2024-01-21.pgn'\n",
    "VERSION = 'v0.2'\n",
    "\n",
    "def get_token():\n",
    "    \"\"\"Get Azure access token\"\"\"\n",
    "    return azure_auth.get_azure_access_token()\n",
    "\n",
    "def headers():\n",
    "    return {\n",
    "        \"Authorization\": f\"Bearer {get_token()}\",\n",
    "        \"Accept\": \"application/json\"\n",
    "    }\n",
    "\n",
    "def get_sas_token():\n",
    "    \"\"\"Get SAS token for workspace storage container\"\"\"\n",
    "    uri = f\"{WSM_BASE_URL}/{WORKSPACE_ID}/resources/controlled/azure/storageContainer/{WORKSPACE_STORAGE_CONTAINER_ID}/getSasToken\"\n",
    "    response = requests.post(uri, headers=headers())\n",
    "    status_code = response.status_code\n",
    "    if status_code != 200:\n",
    "        return response.text\n",
    "    return json.loads(response.text)['token']\n",
    "\n",
    "def get_wds_url():\n",
    "    \"\"\"Get url for WDS\"\"\"\n",
    "    uri = f\"{LEO_BASE_URL}/{WORKSPACE_ID}/wds-{WORKSPACE_ID}\"\n",
    "    response = requests.get(uri, headers=headers())\n",
    "    status_code = response.status_code\n",
    "    if status_code != 200:\n",
    "        return response.text\n",
    "    return json.loads(response.text)['proxyUrls']['wds']"
   ]
  },
  {
   "cell_type": "markdown",
   "id": "5b90e855-d62f-447a-b5df-dcf4013d6688",
   "metadata": {
    "tags": []
   },
   "source": [
    "# Copy the pgn file to disk"
   ]
  },
  {
   "cell_type": "code",
   "execution_count": 15,
   "id": "40e7e77d-2803-48ae-bc83-0c6da67740c4",
   "metadata": {
    "tags": []
   },
   "outputs": [
    {
     "name": "stdout",
     "output_type": "stream",
     "text": [
      "INFO: Scanning...\n",
      "INFO: Any empty folders will not be processed, because source and/or destination doesn't have full folder support\n",
      "\n",
      "failed to perform copy command due to error: cannot start job due to error: cannot list files due to reason -> github.com/Azure/azure-storage-blob-go/azblob.newStorageError, /home/vsts/go/pkg/mod/github.com/!azure/azure-storage-blob-go@v0.15.0/azblob/zc_storage_error.go:42\n",
      "===== RESPONSE ERROR (ServiceCode=AuthenticationFailed) =====\n",
      "Description=403 Server failed to authenticate the request. Make sure the value of Authorization header is formed correctly including the signature., Details: (none)\n",
      "   HEAD https://lz88a1ce71eb2a5df44002f0.blob.core.windows.net/sc-0805d3a9-a309-415b-af9c-f7b5de0c01ea/lichess_robitto_2024-01-21.pgn?rscd=100182905304480635229%3Fsv%3D2021-12-02&se=2024-01-23t19%3A33%3A55z&sig=-REDACTED-&sp=racwdlt&spr=https&sr=c&st=2024-01-23t18%3A18%3A55z&sv=2021-12-02&timeout=901\n",
      "   User-Agent: [AzCopy/10.18.1 Azure-Storage/0.15 (go1.19.8; linux)]\n",
      "   X-Ms-Client-Request-Id: [80b8d792-cdfe-457c-45d1-69be34f09dac]\n",
      "   X-Ms-Version: [2020-10-02]\n",
      "   --------------------------------------------------------------------------------\n",
      "   RESPONSE Status: 403 Server failed to authenticate the request. Make sure the value of Authorization header is formed correctly including the signature.\n",
      "   Access-Control-Allow-Origin: [*]\n",
      "   Date: [Tue, 23 Jan 2024 18:33:56 GMT]\n",
      "   Server: [Microsoft-HTTPAPI/2.0]\n",
      "   X-Ms-Error-Code: [AuthenticationFailed]\n",
      "   X-Ms-Request-Id: [85743531-801e-000d-5f2a-4e0733000000]\n",
      "\n",
      "\n",
      ".\n",
      "\n"
     ]
    }
   ],
   "source": [
    "pgn_file_base = f\"{WORKSPACE_STORAGE_CONTAINER_URL}/{FILE_NAME}?{get_sas_token()}\"\n",
    "pgn_file = f\"{pgn_file_base}?{get_sas_token()}\"\n",
    "! azcopy copy '{pgn_file}' ."
   ]
  },
  {
   "cell_type": "markdown",
   "id": "df8cba86-73cc-4607-b4bc-f2dd12bae0db",
   "metadata": {
    "tags": []
   },
   "source": [
    "# Prepare Workspace Data Service clients"
   ]
  },
  {
   "cell_type": "code",
   "execution_count": 16,
   "id": "7472d4f9-bd90-41c9-ac7e-381009362401",
   "metadata": {
    "tags": []
   },
   "outputs": [],
   "source": [
    "api_client = wds_client.ApiClient(header_name='Authorization', header_value=\"Bearer \" + get_token())\n",
    "api_client.configuration.host = get_wds_url()\n",
    "\n",
    "# set up all the clients\n",
    "records_client = wds_client.RecordsApi(api_client)\n",
    "generalInfo_instance = wds_client.GeneralWDSInformationApi(api_client)\n",
    "schema_instance = wds_client.SchemaApi(api_client)\n",
    "client_instance = wds_client.InstancesApi(api_client)"
   ]
  },
  {
   "cell_type": "markdown",
   "id": "e9189dc5-69b5-4b48-b9bf-26d29749dbd6",
   "metadata": {},
   "source": [
    "# Parse PGN file and upload to WDS in batches"
   ]
  },
  {
   "cell_type": "code",
   "execution_count": 17,
   "id": "85fde42d-3094-4ae2-b9b5-730a460a9d36",
   "metadata": {
    "tags": []
   },
   "outputs": [
    {
     "name": "stdout",
     "output_type": "stream",
     "text": [
      "Uploading games 1-1000...\n",
      "{'message': 'Huzzah', 'records_modified': 1000}\n",
      "Uploading games 1001-2000...\n",
      "{'message': 'Huzzah', 'records_modified': 1000}\n",
      "Uploading games 2001-3000...\n",
      "{'message': 'Huzzah', 'records_modified': 1000}\n",
      "Uploading games 3001-4000...\n",
      "{'message': 'Huzzah', 'records_modified': 1000}\n",
      "Uploading games 4001-5000...\n",
      "{'message': 'Huzzah', 'records_modified': 1000}\n",
      "Uploading games 5001-6000...\n",
      "{'message': 'Huzzah', 'records_modified': 1000}\n",
      "Uploading games 6001-7000...\n",
      "{'message': 'Huzzah', 'records_modified': 1000}\n",
      "Uploading games 7001-8000...\n",
      "{'message': 'Huzzah', 'records_modified': 1000}\n",
      "Uploading games 8001-9000...\n",
      "{'message': 'Huzzah', 'records_modified': 1000}\n",
      "Uploading games 9001-10000...\n",
      "{'message': 'Huzzah', 'records_modified': 1000}\n",
      "Uploading games 10001-11000...\n",
      "{'message': 'Huzzah', 'records_modified': 1000}\n",
      "Uploading games 11001-12000...\n",
      "{'message': 'Huzzah', 'records_modified': 1000}\n",
      "Uploading games 12001-13000...\n",
      "{'message': 'Huzzah', 'records_modified': 1000}\n",
      "Uploading games 13001-14000...\n",
      "{'message': 'Huzzah', 'records_modified': 1000}\n",
      "Uploading games 14001-15000...\n",
      "{'message': 'Huzzah', 'records_modified': 1000}\n",
      "Uploading games 15001-16000...\n",
      "{'message': 'Huzzah', 'records_modified': 1000}\n",
      "Uploading games 16001-17000...\n",
      "{'message': 'Huzzah', 'records_modified': 1000}\n",
      "Uploading games 17001-17185...\n",
      "{'message': 'Huzzah', 'records_modified': 185}\n"
     ]
    }
   ],
   "source": [
    "pgn = open(FILE_NAME)\n",
    "table_name = 'games'\n",
    "cols = [\n",
    "    'Event', \n",
    "    'Site', \n",
    "    'Date', \n",
    "    'White',\n",
    "    'Black', \n",
    "    'Result', \n",
    "    'WhiteElo',\n",
    "    'BlackElo', \n",
    "    'WhiteRatingDiff',\n",
    "    'BlackRatingDiff',\n",
    "    'Variant',\n",
    "    'TimeControl',\n",
    "    'ECO',\n",
    "    'Opening',\n",
    "    'Termination'\n",
    "]\n",
    "batch_size = 1000\n",
    "batch_upsert = []\n",
    "i = 0\n",
    "last_updated = 0\n",
    "while True:\n",
    "    offset = pgn.tell()\n",
    "    headers = chess.pgn.read_headers(pgn)\n",
    "    if headers is None:\n",
    "        break\n",
    "        \n",
    "    attrs = {}\n",
    "    attrs['offset'] = offset\n",
    "    attrs['pgn_file'] = pgn_file_base\n",
    "    for c in cols:\n",
    "        attrs[c] = headers.get(c, \"?\")\n",
    "    record = wds_client.models.BatchRecordRequest(str(i), table_name, attrs)\n",
    "    operation = wds_client.models.BatchOperation('upsert', record)\n",
    "    batch_upsert.append(operation)\n",
    "    i = i + 1\n",
    "    if i % batch_size == 0: \n",
    "        print(f\"Uploading games {last_updated+1}-{i}...\")\n",
    "        record = records_client.batch_write_records(WORKSPACE_ID, VERSION, table_name, batch_upsert)\n",
    "        print(record)\n",
    "        batch_upsert.clear()\n",
    "        last_updated = i\n",
    "    \n",
    "print(f\"Uploading games {last_updated+1}-{i}...\")\n",
    "record = records_client.batch_write_records(WORKSPACE_ID, VERSION, table_name, batch_upsert)\n",
    "print(record)\n",
    "batch_upsert.clear()\n",
    "    "
   ]
  },
  {
   "cell_type": "code",
   "execution_count": null,
   "id": "8c64930b-fb98-4d6b-8410-9d95a28384f1",
   "metadata": {},
   "outputs": [],
   "source": []
  }
 ],
 "metadata": {
  "kernelspec": {
   "display_name": "Python 3 (ipykernel)",
   "language": "python",
   "name": "python3"
  },
  "language_info": {
   "codemirror_mode": {
    "name": "ipython",
    "version": 3
   },
   "file_extension": ".py",
   "mimetype": "text/x-python",
   "name": "python",
   "nbconvert_exporter": "python",
   "pygments_lexer": "ipython3",
   "version": "3.8.16"
  }
 },
 "nbformat": 4,
 "nbformat_minor": 5
}
