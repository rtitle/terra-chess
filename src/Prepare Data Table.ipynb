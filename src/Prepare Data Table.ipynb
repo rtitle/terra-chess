{
 "cells": [
  {
   "cell_type": "markdown",
   "id": "b98fa27e-5a3b-46dc-8725-08e163bad9bd",
   "metadata": {},
   "source": [
    "# Install dependencies"
   ]
  },
  {
   "cell_type": "code",
   "execution_count": null,
   "id": "dfcf46be-29f3-4cde-9a79-c81b71051fa3",
   "metadata": {},
   "outputs": [],
   "source": [
    "%%bash\n",
    "pip install wds-client --upgrade\n",
    "pip install chess\n",
    "pip install terra-notebook-utils --user"
   ]
  },
  {
   "cell_type": "code",
   "execution_count": 52,
   "id": "5f91b505-b6e7-4671-a7a4-def4607fed23",
   "metadata": {},
   "outputs": [],
   "source": [
    "import chess.pgn\n",
    "import requests\n",
    "import os\n",
    "import json\n",
    "import wds_client\n",
    "from terra_notebook_utils import azure_auth"
   ]
  },
  {
   "cell_type": "markdown",
   "id": "24a550e5-e225-4277-9ff1-4eb6202c6fa3",
   "metadata": {},
   "source": [
    "# Define constants"
   ]
  },
  {
   "cell_type": "code",
   "execution_count": 53,
   "id": "51376bd5-ae69-44ad-a240-c36a4fadd25b",
   "metadata": {},
   "outputs": [],
   "source": [
    "DOMAIN = 'rtitle-azure.bee.envs-terra.bio'\n",
    "WSM_BASE_URL = f'https://workspace.{DOMAIN}/api/workspaces/v1'\n",
    "LEO_BASE_URL = f'https://leonardo.{DOMAIN}/api/apps/v2'\n",
    "HEADERS = {\n",
    "    \"Authorization\": f\"Bearer {azure_token}\",\n",
    "    \"Accept\": \"application/json\"\n",
    "}\n",
    "WORKSPACE_ID = os.environ['WORKSPACE_ID']\n",
    "WORKSPACE_STORAGE_CONTAINER_ID = os.environ['WORKSPACE_STORAGE_CONTAINER_ID']\n",
    "WORKSPACE_STORAGE_CONTAINER_URL = os.environ['WORKSPACE_STORAGE_CONTAINER_URL']\n",
    "FILE_NAME = 'lichess_robitto_2023-04-10.pgn'\n",
    "VERSION = 'v0.2'"
   ]
  },
  {
   "cell_type": "markdown",
   "id": "b3adc327-7848-4033-93c2-380991a148cd",
   "metadata": {},
   "source": [
    "# Get the Workspace storage container SAS token"
   ]
  },
  {
   "cell_type": "code",
   "execution_count": 54,
   "id": "377f9ee4-f43f-4eed-8134-d7786d3aef14",
   "metadata": {},
   "outputs": [],
   "source": [
    "azure_token = azure_auth.get_azure_access_token()"
   ]
  },
  {
   "cell_type": "code",
   "execution_count": 55,
   "id": "3cd9cd8f-522f-4c5c-9672-905de81304e9",
   "metadata": {},
   "outputs": [
    {
     "name": "stdout",
     "output_type": "stream",
     "text": [
      "sv=2021-12-02&spr=https&st=2023-04-11T04%3A19%3A49Z&se=2023-04-11T05%3A34%3A49Z&sr=c&sp=racwdl&sig=vyH2EZ2a0eIFRsVbH%2B0TRelpxIhc%2FzVUqlK%2FHQ073Zc%3D\n"
     ]
    }
   ],
   "source": [
    "def get_wsm_sas_token(workspaceId, storageContainerId):\n",
    "    \"\"\"Get SAS token for workspace storage container.\"\"\"\n",
    "    uri = f\"{WSM_BASE_URL}/{WORKSPACE_ID}/resources/controlled/azure/storageContainer/{WORKSPACE_STORAGE_CONTAINER_ID}/getSasToken\"\n",
    "    response = requests.post(uri, headers=HEADERS)\n",
    "    status_code = response.status_code\n",
    "    if status_code != 200:\n",
    "        return response.text\n",
    "    return json.loads(response.text)\n",
    "\n",
    "response = get_wsm_sas_token(WORKSPACE_ID, WORKSPACE_STORAGE_CONTAINER_ID)\n",
    "sas_token = response['token']\n",
    "print(sas_token)"
   ]
  },
  {
   "cell_type": "markdown",
   "id": "0e89dd4f-38bb-4938-bb21-e3e5a10dc150",
   "metadata": {},
   "source": [
    "# Prepare Workspace Data Service clients"
   ]
  },
  {
   "cell_type": "code",
   "execution_count": 56,
   "id": "94eae00e-2e8a-432c-95fc-6f9f753e21d2",
   "metadata": {},
   "outputs": [
    {
     "name": "stdout",
     "output_type": "stream",
     "text": [
      "https://lz7d4295cb61a13b21caa1d6175b3dfd694259689e189d8abb.servicebus.windows.net/wds-49237e9f-7e0b-4f09-8d19-1ff0d668cd3a/wds\n"
     ]
    }
   ],
   "source": [
    "def get_wds_url(workspaceId):\n",
    "    \"\"\"Get url for WDS.\"\"\"\n",
    "    uri = f\"{LEO_BASE_URL}/{workspaceId}?includeDeleted=false\"\n",
    "    response = requests.get(uri, headers=HEADERS)\n",
    "    status_code = response.status_code\n",
    "    if status_code != 200:\n",
    "        return response.text\n",
    "    return json.loads(response.text)\n",
    "\n",
    "response = get_wds_url(WORKSPACE_ID)\n",
    "wds_url = response[0]['proxyUrls']['wds']\n",
    "print(wds_url)"
   ]
  },
  {
   "cell_type": "code",
   "execution_count": 57,
   "id": "9557ff4f-0630-46f3-bb7d-3beee8c8efc2",
   "metadata": {},
   "outputs": [],
   "source": [
    "api_client = wds_client.ApiClient(header_name='Authorization', header_value=\"Bearer \" + azure_token)\n",
    "api_client.configuration.host = wds_url\n",
    "\n",
    "# set up all the clients\n",
    "records_client = wds_client.RecordsApi(api_client)\n",
    "generalInfo_instance = wds_client.GeneralWDSInformationApi(api_client)\n",
    "schema_instance = wds_client.SchemaApi(api_client)\n",
    "client_instance = wds_client.InstancesApi(api_client)"
   ]
  },
  {
   "cell_type": "markdown",
   "id": "f4a3163b-b140-49fc-84ec-a7af5d333cde",
   "metadata": {},
   "source": [
    "# Copy the pgn file to disk"
   ]
  },
  {
   "cell_type": "code",
   "execution_count": 58,
   "id": "0968dfb0-c8b5-426b-a4de-f7f10809d184",
   "metadata": {},
   "outputs": [
    {
     "name": "stdout",
     "output_type": "stream",
     "text": [
      "INFO: Scanning...\n",
      "INFO: Any empty folders will not be processed, because source and/or destination doesn't have full folder support\n",
      "\n",
      "Job 39fc5ea9-af32-9040-53c2-daaa05a459dd has started\n",
      "Log file is located at: /home/jupyter/.azcopy/39fc5ea9-af32-9040-53c2-daaa05a459dd.log\n",
      "\n",
      "INFO: azcopy: A newer version 10.18.0 is available to downloadning...), \n",
      "         \n",
      "100.0 %, 0 Done, 0 Failed, 0 Pending, 0 Skipped, 0 Total (scanning...), \n",
      "\n",
      "\n",
      "Job 39fc5ea9-af32-9040-53c2-daaa05a459dd summary\n",
      "Elapsed Time (Minutes): 0.0334\n",
      "Number of File Transfers: 1\n",
      "Number of Folder Property Transfers: 0\n",
      "Total Number of Transfers: 1\n",
      "Number of Transfers Completed: 1\n",
      "Number of Transfers Failed: 0\n",
      "Number of Transfers Skipped: 0\n",
      "TotalBytesTransferred: 11946048\n",
      "Final Job Status: Completed\n",
      "\n"
     ]
    }
   ],
   "source": [
    "pgn_file = f\"{WORKSPACE_STORAGE_CONTAINER_URL}/{FILE_NAME}\"\n",
    "pgn_file_with_sas = f\"{WORKSPACE_STORAGE_CONTAINER_URL}/{FILE_NAME}?{sas_token}\"\n",
    "! azcopy copy '{pgn_file_with_sas}' ."
   ]
  },
  {
   "cell_type": "markdown",
   "id": "e9189dc5-69b5-4b48-b9bf-26d29749dbd6",
   "metadata": {},
   "source": [
    "# Parse PGN file and upload to WDS in batches"
   ]
  },
  {
   "cell_type": "code",
   "execution_count": 60,
   "id": "85fde42d-3094-4ae2-b9b5-730a460a9d36",
   "metadata": {},
   "outputs": [
    {
     "name": "stdout",
     "output_type": "stream",
     "text": [
      "Uploading games 1-1000...\n",
      "{'message': 'Huzzah', 'records_modified': 1000}\n",
      "Uploading games 1001-2000...\n",
      "{'message': 'Huzzah', 'records_modified': 1000}\n",
      "Uploading games 2001-3000...\n",
      "{'message': 'Huzzah', 'records_modified': 1000}\n",
      "Uploading games 3001-4000...\n",
      "{'message': 'Huzzah', 'records_modified': 1000}\n",
      "Uploading games 4001-5000...\n",
      "{'message': 'Huzzah', 'records_modified': 1000}\n",
      "Uploading games 5001-6000...\n",
      "{'message': 'Huzzah', 'records_modified': 1000}\n",
      "Uploading games 6001-7000...\n",
      "{'message': 'Huzzah', 'records_modified': 1000}\n",
      "Uploading games 7001-8000...\n",
      "{'message': 'Huzzah', 'records_modified': 1000}\n",
      "Uploading games 8001-9000...\n",
      "{'message': 'Huzzah', 'records_modified': 1000}\n",
      "Uploading games 9001-10000...\n",
      "{'message': 'Huzzah', 'records_modified': 1000}\n",
      "Uploading games 10001-11000...\n",
      "{'message': 'Huzzah', 'records_modified': 1000}\n",
      "Uploading games 11001-12000...\n",
      "{'message': 'Huzzah', 'records_modified': 1000}\n",
      "Uploading games 12001-13000...\n",
      "{'message': 'Huzzah', 'records_modified': 1000}\n",
      "Uploading games 13001-14000...\n",
      "{'message': 'Huzzah', 'records_modified': 1000}\n",
      "Uploading games 14001-15000...\n",
      "{'message': 'Huzzah', 'records_modified': 1000}\n",
      "Uploading games 15001-16000...\n",
      "{'message': 'Huzzah', 'records_modified': 1000}\n",
      "Uploading games 16001-16287...\n",
      "{'message': 'Huzzah', 'records_modified': 287}\n"
     ]
    }
   ],
   "source": [
    "pgn = open(FILE_NAME)\n",
    "cols = [\n",
    "    'Event', 'Site', 'Date', 'Round', 'White', 'Black', 'Result', 'BlackElo', 'BlackRatingDiff', 'ECO', 'Termination', 'TimeControl', 'UTCDate', 'UTCTime', 'Variant', 'WhiteElo', 'WhiteRatingDiff'\n",
    "]\n",
    "batch_size = 1000\n",
    "batch_upsert = []\n",
    "i = 0\n",
    "last_updated = 0\n",
    "while True:\n",
    "    offset = pgn.tell()\n",
    "    headers = chess.pgn.read_headers(pgn)\n",
    "    if headers is None:\n",
    "        break\n",
    "        \n",
    "    attrs = {}\n",
    "    attrs['offset'] = offset\n",
    "    attrs['pgn_file'] = pgn_file\n",
    "    for c in cols:\n",
    "        attrs[c] = headers.get(c, \"?\")\n",
    "    record = wds_client.models.BatchRecordRequest(str(i), 'string', attrs)\n",
    "    operation = wds_client.models.BatchOperation('upsert', record)\n",
    "    batch_upsert.append(operation)\n",
    "    i = i + 1\n",
    "    if i % batch_size == 0: \n",
    "        print(f\"Uploading games {last_updated+1}-{i}...\")\n",
    "        record = records_client.batch_write_records(WORKSPACE_ID, VERSION, \"games\", batch_upsert)\n",
    "        print(record)\n",
    "        batch_upsert.clear()\n",
    "        last_updated = i\n",
    "    \n",
    "print(f\"Uploading games {last_updated+1}-{i}...\")\n",
    "record = records_client.batch_write_records(WORKSPACE_ID, VERSION, \"games\", batch_upsert)\n",
    "print(record)\n",
    "batch_upsert.clear()\n",
    "    "
   ]
  },
  {
   "cell_type": "code",
   "execution_count": 18,
   "id": "8c64930b-fb98-4d6b-8410-9d95a28384f1",
   "metadata": {},
   "outputs": [],
   "source": []
  }
 ],
 "metadata": {
  "kernelspec": {
   "display_name": "Python 3",
   "language": "python",
   "name": "python3"
  },
  "language_info": {
   "codemirror_mode": {
    "name": "ipython",
    "version": 3
   },
   "file_extension": ".py",
   "mimetype": "text/x-python",
   "name": "python",
   "nbconvert_exporter": "python",
   "pygments_lexer": "ipython3",
   "version": "3.8.13"
  }
 },
 "nbformat": 4,
 "nbformat_minor": 5
}
