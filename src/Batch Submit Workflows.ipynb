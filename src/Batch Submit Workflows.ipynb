{
 "cells": [
  {
   "cell_type": "code",
   "execution_count": 29,
   "metadata": {
    "tags": []
   },
   "outputs": [],
   "source": [
    "import os\n",
    "import requests\n",
    "from terra_notebook_utils import azure_auth"
   ]
  },
  {
   "cell_type": "code",
   "execution_count": 32,
   "metadata": {
    "tags": []
   },
   "outputs": [],
   "source": [
    "DOMAIN = 'dsde-prod.broadinstitute.org'\n",
    "LEO_BASE_URL = f'https://leonardo.{DOMAIN}/api/apps/v2'\n",
    "WORKSPACE_ID = os.environ['WORKSPACE_ID']\n",
    "\n",
    "def get_token():\n",
    "    \"\"\"Get Azure access token\"\"\"\n",
    "    return azure_auth.get_azure_access_token()\n",
    "\n",
    "def headers():\n",
    "    return {\n",
    "        \"Authorization\": f\"Bearer {get_token()}\",\n",
    "        \"Accept\": \"application/json\"\n",
    "    }\n",
    "\n",
    "def get_cbas_url():\n",
    "    \"\"\"Get url for CBAS\"\"\"\n",
    "    uri = f\"{LEO_BASE_URL}/{WORKSPACE_ID}?includeDeleted=false\"\n",
    "    response = requests.get(uri, headers=headers())\n",
    "    status_code = response.status_code\n",
    "    if status_code != 200:\n",
    "        return response.text\n",
    "    response_json = response.json()\n",
    "    for item in response_json:\n",
    "        if item['appType'] == 'WORKFLOWS_APP':\n",
    "            return item['proxyUrls']['cbas']\n",
    "    return json.loads(response.text)['proxyUrls']['wds']\n",
    "\n",
    "def get_post_data(start, end):\n",
    "    return {\n",
    "  \"run_set_name\": f\"chess-eval-games_{start}-{end}\",\n",
    "  \"run_set_description\": \"\",\n",
    "  \"method_version_id\": \"2df9dc6a-ddde-4643-bb9e-1eb2e1435897\",\n",
    "  \"workflow_input_definitions\": [\n",
    "    {\n",
    "      \"input_name\": \"ChessEval.offset\",\n",
    "      \"input_type\": {\n",
    "        \"type\": \"primitive\",\n",
    "        \"primitive_type\": \"Int\"\n",
    "      },\n",
    "      \"source\": {\n",
    "        \"type\": \"record_lookup\",\n",
    "        \"record_attribute\": \"offset\"\n",
    "      }\n",
    "    },\n",
    "    {\n",
    "      \"input_name\": \"ChessEval.pgn_file\",\n",
    "      \"input_type\": {\n",
    "        \"type\": \"primitive\",\n",
    "        \"primitive_type\": \"File\"\n",
    "      },\n",
    "      \"source\": {\n",
    "        \"type\": \"record_lookup\",\n",
    "        \"record_attribute\": \"pgn_file\"\n",
    "      }\n",
    "    }\n",
    "  ],\n",
    "  \"workflow_output_definitions\": [\n",
    "    {\n",
    "      \"output_name\": \"ChessEval.black_accuracy\",\n",
    "      \"output_type\": {\n",
    "        \"type\": \"primitive\",\n",
    "        \"primitive_type\": \"Float\"\n",
    "      },\n",
    "      \"destination\": {\n",
    "        \"type\": \"record_update\",\n",
    "        \"record_attribute\": \"black_accuracy\"\n",
    "      }\n",
    "    },\n",
    "    {\n",
    "      \"output_name\": \"ChessEval.white_accuracy\",\n",
    "      \"output_type\": {\n",
    "        \"type\": \"primitive\",\n",
    "        \"primitive_type\": \"Float\"\n",
    "      },\n",
    "      \"destination\": {\n",
    "        \"type\": \"record_update\",\n",
    "        \"record_attribute\": \"white_accuracy\"\n",
    "      }\n",
    "    }\n",
    "  ],\n",
    "  \"wds_records\": {\n",
    "    \"record_type\": \"games\",\n",
    "    \"record_ids\": list(map(str, range(start,end))),\n",
    "  },\n",
    "  \"call_caching_enabled\": False\n",
    "}\n",
    "\n",
    "def submit_to_cbas(cbas_url, body):\n",
    "    uri = f\"{cbas_url}/api/batch/v1/run_sets\"\n",
    "    response = requests.post(uri, json=body, headers=headers())\n",
    "    status_code = response.status_code\n",
    "    if status_code != 200:\n",
    "        raise Exception(response.text)\n",
    "    return response.json()\n",
    "    "
   ]
  },
  {
   "cell_type": "code",
   "execution_count": 33,
   "metadata": {
    "tags": []
   },
   "outputs": [],
   "source": [
    "batch = 1000\n",
    "start = 8000\n",
    "end = 9000\n",
    "# 17185 total"
   ]
  },
  {
   "cell_type": "code",
   "execution_count": 34,
   "metadata": {
    "tags": []
   },
   "outputs": [
    {
     "name": "stdout",
     "output_type": "stream",
     "text": [
      "Submitting batch 8000..8999\n",
      "Done\n"
     ]
    }
   ],
   "source": [
    "cbas_url = get_cbas_url()\n",
    "i = start\n",
    "while i < end:\n",
    "    print(f\"Submitting batch {i}..{i+batch-1}\")\n",
    "    data = get_post_data(i, i+batch)\n",
    "    submit_to_cbas(cbas_url, data)\n",
    "    i = i + batch\n",
    "print(\"Done\")\n",
    "    "
   ]
  },
  {
   "cell_type": "code",
   "execution_count": null,
   "metadata": {
    "tags": []
   },
   "outputs": [],
   "source": []
  },
  {
   "cell_type": "code",
   "execution_count": null,
   "metadata": {},
   "outputs": [],
   "source": []
  }
 ],
 "metadata": {
  "kernelspec": {
   "display_name": "Python 3 (ipykernel)",
   "language": "python",
   "name": "python3"
  },
  "language_info": {
   "codemirror_mode": {
    "name": "ipython",
    "version": 3
   },
   "file_extension": ".py",
   "mimetype": "text/x-python",
   "name": "python",
   "nbconvert_exporter": "python",
   "pygments_lexer": "ipython3",
   "version": "3.8.16"
  }
 },
 "nbformat": 4,
 "nbformat_minor": 4
}
